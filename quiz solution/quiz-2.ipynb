{
 "cells": [
  {
   "cell_type": "code",
   "execution_count": 1,
   "id": "95810a2b",
   "metadata": {},
   "outputs": [],
   "source": [
    "import csv"
   ]
  },
  {
   "cell_type": "code",
   "execution_count": 12,
   "id": "6438a3a7",
   "metadata": {},
   "outputs": [],
   "source": [
    "f=open('contacts.csv','w',newline='')"
   ]
  },
  {
   "cell_type": "code",
   "execution_count": 4,
   "id": "b0a4c9c9",
   "metadata": {},
   "outputs": [],
   "source": [
    "w=csv.writer(f)"
   ]
  },
  {
   "cell_type": "code",
   "execution_count": 5,
   "id": "85f8561b",
   "metadata": {},
   "outputs": [],
   "source": [
    "header=['name','contact']"
   ]
  },
  {
   "cell_type": "code",
   "execution_count": 6,
   "id": "92f3c333",
   "metadata": {},
   "outputs": [
    {
     "data": {
      "text/plain": [
       "14"
      ]
     },
     "execution_count": 6,
     "metadata": {},
     "output_type": "execute_result"
    }
   ],
   "source": [
    "w.writerow(header)"
   ]
  },
  {
   "cell_type": "code",
   "execution_count": 19,
   "id": "8a2b0347",
   "metadata": {},
   "outputs": [],
   "source": [
    "row=[['om',9978700910],['sai',8141161676],['ram',8768675641],['radha',9987675660],['krishna',9429067422]]"
   ]
  },
  {
   "cell_type": "code",
   "execution_count": 20,
   "id": "fa08b986",
   "metadata": {},
   "outputs": [],
   "source": [
    "w.writerows(row)"
   ]
  },
  {
   "cell_type": "code",
   "execution_count": 21,
   "id": "de010fd8",
   "metadata": {},
   "outputs": [],
   "source": [
    "f.close()"
   ]
  },
  {
   "cell_type": "code",
   "execution_count": 17,
   "id": "b4801df3",
   "metadata": {},
   "outputs": [],
   "source": [
    "import csv"
   ]
  },
  {
   "cell_type": "code",
   "execution_count": 22,
   "id": "fec50866",
   "metadata": {},
   "outputs": [],
   "source": [
    "f=open('contact.csv','r',newline='')\n"
   ]
  },
  {
   "cell_type": "code",
   "execution_count": 23,
   "id": "b1a62a0e",
   "metadata": {},
   "outputs": [],
   "source": [
    "w=csv.reader(f)"
   ]
  },
  {
   "cell_type": "code",
   "execution_count": 25,
   "id": "2ac4a5f2",
   "metadata": {},
   "outputs": [
    {
     "name": "stdout",
     "output_type": "stream",
     "text": [
      "['om', 9978700910]\n",
      "['sai', 8141161676]\n",
      "['ram', 8768675641]\n",
      "['radha', 9987675660]\n",
      "['krishna', 9429067422]\n"
     ]
    }
   ],
   "source": [
    "for i in row:\n",
    "    print(i)"
   ]
  },
  {
   "cell_type": "code",
   "execution_count": null,
   "id": "9f477286",
   "metadata": {},
   "outputs": [],
   "source": []
  }
 ],
 "metadata": {
  "kernelspec": {
   "display_name": "Python 3 (ipykernel)",
   "language": "python",
   "name": "python3"
  },
  "language_info": {
   "codemirror_mode": {
    "name": "ipython",
    "version": 3
   },
   "file_extension": ".py",
   "mimetype": "text/x-python",
   "name": "python",
   "nbconvert_exporter": "python",
   "pygments_lexer": "ipython3",
   "version": "3.11.4"
  }
 },
 "nbformat": 4,
 "nbformat_minor": 5
}
